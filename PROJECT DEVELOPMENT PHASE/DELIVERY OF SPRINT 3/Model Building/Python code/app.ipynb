{
 "cells": [
  {
   "cell_type": "code",
   "execution_count": null,
   "id": "cf152cac",
   "metadata": {},
   "outputs": [
    {
     "name": "stderr",
     "output_type": "stream",
     "text": [
      "C:\\Users\\yazhithan\\anaconda3\\lib\\site-packages\\sklearn\\base.py:310: UserWarning: Trying to unpickle estimator StandardScaler from version 0.24.0 when using version 0.24.1. This might lead to breaking code or invalid results. Use at your own risk.\n",
      "  warnings.warn(\n"
     ]
    },
    {
     "name": "stdout",
     "output_type": "stream",
     "text": [
      " * Serving Flask app \"__main__\" (lazy loading)\n",
      " * Environment: development\n",
      " * Debug mode: off\n"
     ]
    },
    {
     "name": "stderr",
     "output_type": "stream",
     "text": [
      " * Running on http://127.0.0.1:5000/ (Press CTRL+C to quit)\n",
      "127.0.0.1 - - [06/Nov/2022 18:25:42] \"\u001b[37mGET / HTTP/1.1\u001b[0m\" 200 -\n",
      "127.0.0.1 - - [06/Nov/2022 18:25:42] \"\u001b[36mGET /static/water6.jpg HTTP/1.1\u001b[0m\" 304 -\n",
      "127.0.0.1 - - [06/Nov/2022 18:25:42] \"\u001b[33mGET /favicon.ico HTTP/1.1\u001b[0m\" 404 -\n",
      "127.0.0.1 - - [06/Nov/2022 18:28:19] \"\u001b[37mPOST /predict HTTP/1.1\u001b[0m\" 200 -\n",
      "127.0.0.1 - - [06/Nov/2022 18:28:19] \"\u001b[36mGET /static/15.jpg HTTP/1.1\u001b[0m\" 304 -\n",
      "127.0.0.1 - - [06/Nov/2022 18:48:45] \"\u001b[37mPOST /predict HTTP/1.1\u001b[0m\" 200 -\n",
      "127.0.0.1 - - [06/Nov/2022 19:15:03] \"\u001b[37mGET / HTTP/1.1\u001b[0m\" 200 -\n",
      "127.0.0.1 - - [06/Nov/2022 19:15:29] \"\u001b[37mPOST /predict HTTP/1.1\u001b[0m\" 200 -\n"
     ]
    }
   ],
   "source": [
    "import os\n",
    "if __name__=='__main__':\n",
    "    os.environ.setdefault('FLASK_ENV','development')\n",
    "\n",
    "from flask import Flask, request, render_template\n",
    "import pickle\n",
    "import pandas as pd\n",
    "import numpy as np\n",
    "import joblib\n",
    "scaler = joblib.load(\"my_scaler.save\")\n",
    "\n",
    "\n",
    "app = Flask(__name__)\n",
    "model = pickle.load(open('model.pkl', 'rb'))\n",
    "\n",
    "@app.route(\"/home\")\n",
    "@app.route(\"/\")\n",
    "def hello():\n",
    "    return render_template(\"home.html\")\n",
    "\n",
    "@app.route(\"/predict\", methods = [\"GET\", \"POST\"])\n",
    "def predict():\n",
    "    if request.method == \"POST\":\n",
    "        input_features = [float(x) for x in request.form.values()]\n",
    "        features_value = [np.array(input_features)]\n",
    "\n",
    "        feature_names = [\"ph\", \"Hardness\" , \"Solids\", \"Chloramines\", \"Sulfate\",\n",
    "                         \"Conductivity\", \"Organic_carbon\",\"Trihalomethanes\", \"Turbidity\"]\n",
    "\n",
    "        df = pd.DataFrame(features_value, columns = feature_names)\n",
    "        df = scaler.transform(df)\n",
    "        output = model.predict(df)\n",
    "\n",
    "        if output[0] == 1:           \n",
    "            prediction = \"safe\"\n",
    "            return render_template('b.html', prediction_text= \"Water is pure and in good condition .It contains good level of all the characherisitic .so it is good for human and {} to drink\".format(prediction))\n",
    "        else:\n",
    "            prediction = \"not safe\"\n",
    "            return render_template('b.html', prediction_text= \"Water is not pure and not in good condition .It contains below average level of all the characterisitcs .so it is not good for human and {} to drink\".format(prediction))\n",
    " \n",
    "        \n",
    "\n",
    "if __name__ == \"__main__\":\n",
    "    app.run(debug=False)\n"
   ]
  },
  {
   "cell_type": "code",
   "execution_count": null,
   "id": "771cdd4c",
   "metadata": {},
   "outputs": [],
   "source": []
  },
  {
   "cell_type": "code",
   "execution_count": null,
   "id": "c39891ad",
   "metadata": {},
   "outputs": [],
   "source": []
  },
  {
   "cell_type": "code",
   "execution_count": null,
   "id": "811eaf09",
   "metadata": {},
   "outputs": [],
   "source": []
  }
 ],
 "metadata": {
  "kernelspec": {
   "display_name": "Python 3",
   "language": "python",
   "name": "python3"
  },
  "language_info": {
   "codemirror_mode": {
    "name": "ipython",
    "version": 3
   },
   "file_extension": ".py",
   "mimetype": "text/x-python",
   "name": "python",
   "nbconvert_exporter": "python",
   "pygments_lexer": "ipython3",
   "version": "3.8.8"
  }
 },
 "nbformat": 4,
 "nbformat_minor": 5
}
