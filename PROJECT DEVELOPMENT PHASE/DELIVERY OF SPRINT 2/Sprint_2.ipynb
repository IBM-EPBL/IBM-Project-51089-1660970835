{
 "cells": [
  {
   "cell_type": "markdown",
   "metadata": {},
   "source": [
    "# IMPORTING THE REQUIRED LIBRARIES"
   ]
  },
  {
   "cell_type": "code",
   "execution_count": 3,
   "metadata": {},
   "outputs": [],
   "source": [
    "import pandas as pd\n",
    "import numpy as np\n",
    "import matplotlib.pyplot as plt\n",
    "import seaborn as sns"
   ]
  },
  {
   "cell_type": "markdown",
   "metadata": {},
   "source": [
    "# IMPORTING THE DATASET"
   ]
  },
  {
   "cell_type": "code",
   "execution_count": 4,
   "metadata": {},
   "outputs": [
    {
     "data": {
      "text/html": [
       "<div>\n",
       "<style scoped>\n",
       "    .dataframe tbody tr th:only-of-type {\n",
       "        vertical-align: middle;\n",
       "    }\n",
       "\n",
       "    .dataframe tbody tr th {\n",
       "        vertical-align: top;\n",
       "    }\n",
       "\n",
       "    .dataframe thead th {\n",
       "        text-align: right;\n",
       "    }\n",
       "</style>\n",
       "<table border=\"1\" class=\"dataframe\">\n",
       "  <thead>\n",
       "    <tr style=\"text-align: right;\">\n",
       "      <th></th>\n",
       "      <th>ph</th>\n",
       "      <th>Hardness</th>\n",
       "      <th>Solids</th>\n",
       "      <th>Chloramines</th>\n",
       "      <th>Sulfate</th>\n",
       "      <th>Conductivity</th>\n",
       "      <th>Organic_carbon</th>\n",
       "      <th>Trihalomethanes</th>\n",
       "      <th>Turbidity</th>\n",
       "      <th>Potability</th>\n",
       "    </tr>\n",
       "  </thead>\n",
       "  <tbody>\n",
       "    <tr>\n",
       "      <th>0</th>\n",
       "      <td>NaN</td>\n",
       "      <td>204.890456</td>\n",
       "      <td>20791.31898</td>\n",
       "      <td>7.300212</td>\n",
       "      <td>368.516441</td>\n",
       "      <td>564.308654</td>\n",
       "      <td>10.379783</td>\n",
       "      <td>86.990970</td>\n",
       "      <td>2.963135</td>\n",
       "      <td>0</td>\n",
       "    </tr>\n",
       "    <tr>\n",
       "      <th>1</th>\n",
       "      <td>3.716080</td>\n",
       "      <td>129.422921</td>\n",
       "      <td>18630.05786</td>\n",
       "      <td>6.635246</td>\n",
       "      <td>NaN</td>\n",
       "      <td>592.885359</td>\n",
       "      <td>15.180013</td>\n",
       "      <td>56.329076</td>\n",
       "      <td>4.500656</td>\n",
       "      <td>0</td>\n",
       "    </tr>\n",
       "    <tr>\n",
       "      <th>2</th>\n",
       "      <td>8.099124</td>\n",
       "      <td>224.236259</td>\n",
       "      <td>19909.54173</td>\n",
       "      <td>9.275884</td>\n",
       "      <td>NaN</td>\n",
       "      <td>418.606213</td>\n",
       "      <td>16.868637</td>\n",
       "      <td>66.420093</td>\n",
       "      <td>3.055934</td>\n",
       "      <td>0</td>\n",
       "    </tr>\n",
       "    <tr>\n",
       "      <th>3</th>\n",
       "      <td>8.316766</td>\n",
       "      <td>214.373394</td>\n",
       "      <td>22018.41744</td>\n",
       "      <td>8.059332</td>\n",
       "      <td>356.886136</td>\n",
       "      <td>363.266516</td>\n",
       "      <td>18.436525</td>\n",
       "      <td>100.341674</td>\n",
       "      <td>4.628771</td>\n",
       "      <td>0</td>\n",
       "    </tr>\n",
       "    <tr>\n",
       "      <th>4</th>\n",
       "      <td>9.092223</td>\n",
       "      <td>181.101509</td>\n",
       "      <td>17978.98634</td>\n",
       "      <td>6.546600</td>\n",
       "      <td>310.135738</td>\n",
       "      <td>398.410813</td>\n",
       "      <td>11.558279</td>\n",
       "      <td>31.997993</td>\n",
       "      <td>4.075075</td>\n",
       "      <td>0</td>\n",
       "    </tr>\n",
       "    <tr>\n",
       "      <th>...</th>\n",
       "      <td>...</td>\n",
       "      <td>...</td>\n",
       "      <td>...</td>\n",
       "      <td>...</td>\n",
       "      <td>...</td>\n",
       "      <td>...</td>\n",
       "      <td>...</td>\n",
       "      <td>...</td>\n",
       "      <td>...</td>\n",
       "      <td>...</td>\n",
       "    </tr>\n",
       "    <tr>\n",
       "      <th>3271</th>\n",
       "      <td>4.668102</td>\n",
       "      <td>193.681736</td>\n",
       "      <td>47580.99160</td>\n",
       "      <td>7.166639</td>\n",
       "      <td>359.948574</td>\n",
       "      <td>526.424171</td>\n",
       "      <td>13.894419</td>\n",
       "      <td>66.687695</td>\n",
       "      <td>4.435821</td>\n",
       "      <td>1</td>\n",
       "    </tr>\n",
       "    <tr>\n",
       "      <th>3272</th>\n",
       "      <td>7.808856</td>\n",
       "      <td>193.553212</td>\n",
       "      <td>17329.80216</td>\n",
       "      <td>8.061362</td>\n",
       "      <td>NaN</td>\n",
       "      <td>392.449580</td>\n",
       "      <td>19.903225</td>\n",
       "      <td>NaN</td>\n",
       "      <td>2.798243</td>\n",
       "      <td>1</td>\n",
       "    </tr>\n",
       "    <tr>\n",
       "      <th>3273</th>\n",
       "      <td>9.419510</td>\n",
       "      <td>175.762646</td>\n",
       "      <td>33155.57822</td>\n",
       "      <td>7.350233</td>\n",
       "      <td>NaN</td>\n",
       "      <td>432.044783</td>\n",
       "      <td>11.039070</td>\n",
       "      <td>69.845400</td>\n",
       "      <td>3.298875</td>\n",
       "      <td>1</td>\n",
       "    </tr>\n",
       "    <tr>\n",
       "      <th>3274</th>\n",
       "      <td>5.126763</td>\n",
       "      <td>230.603758</td>\n",
       "      <td>11983.86938</td>\n",
       "      <td>6.303357</td>\n",
       "      <td>NaN</td>\n",
       "      <td>402.883113</td>\n",
       "      <td>11.168946</td>\n",
       "      <td>77.488213</td>\n",
       "      <td>4.708658</td>\n",
       "      <td>1</td>\n",
       "    </tr>\n",
       "    <tr>\n",
       "      <th>3275</th>\n",
       "      <td>7.874671</td>\n",
       "      <td>195.102299</td>\n",
       "      <td>17404.17706</td>\n",
       "      <td>7.509306</td>\n",
       "      <td>NaN</td>\n",
       "      <td>327.459761</td>\n",
       "      <td>16.140368</td>\n",
       "      <td>78.698446</td>\n",
       "      <td>2.309149</td>\n",
       "      <td>1</td>\n",
       "    </tr>\n",
       "  </tbody>\n",
       "</table>\n",
       "<p>3276 rows × 10 columns</p>\n",
       "</div>"
      ],
      "text/plain": [
       "            ph    Hardness       Solids  Chloramines     Sulfate  \\\n",
       "0          NaN  204.890456  20791.31898     7.300212  368.516441   \n",
       "1     3.716080  129.422921  18630.05786     6.635246         NaN   \n",
       "2     8.099124  224.236259  19909.54173     9.275884         NaN   \n",
       "3     8.316766  214.373394  22018.41744     8.059332  356.886136   \n",
       "4     9.092223  181.101509  17978.98634     6.546600  310.135738   \n",
       "...        ...         ...          ...          ...         ...   \n",
       "3271  4.668102  193.681736  47580.99160     7.166639  359.948574   \n",
       "3272  7.808856  193.553212  17329.80216     8.061362         NaN   \n",
       "3273  9.419510  175.762646  33155.57822     7.350233         NaN   \n",
       "3274  5.126763  230.603758  11983.86938     6.303357         NaN   \n",
       "3275  7.874671  195.102299  17404.17706     7.509306         NaN   \n",
       "\n",
       "      Conductivity  Organic_carbon  Trihalomethanes  Turbidity  Potability  \n",
       "0       564.308654       10.379783        86.990970   2.963135           0  \n",
       "1       592.885359       15.180013        56.329076   4.500656           0  \n",
       "2       418.606213       16.868637        66.420093   3.055934           0  \n",
       "3       363.266516       18.436525       100.341674   4.628771           0  \n",
       "4       398.410813       11.558279        31.997993   4.075075           0  \n",
       "...            ...             ...              ...        ...         ...  \n",
       "3271    526.424171       13.894419        66.687695   4.435821           1  \n",
       "3272    392.449580       19.903225              NaN   2.798243           1  \n",
       "3273    432.044783       11.039070        69.845400   3.298875           1  \n",
       "3274    402.883113       11.168946        77.488213   4.708658           1  \n",
       "3275    327.459761       16.140368        78.698446   2.309149           1  \n",
       "\n",
       "[3276 rows x 10 columns]"
      ]
     },
     "execution_count": 4,
     "metadata": {},
     "output_type": "execute_result"
    }
   ],
   "source": [
    "df = pd.read_csv(\"water_potability.csv\")\n",
    "df"
   ]
  },
  {
   "cell_type": "markdown",
   "metadata": {},
   "source": [
    "# Analyzing the data"
   ]
  },
  {
   "cell_type": "code",
   "execution_count": 5,
   "metadata": {},
   "outputs": [
    {
     "data": {
      "text/html": [
       "<div>\n",
       "<style scoped>\n",
       "    .dataframe tbody tr th:only-of-type {\n",
       "        vertical-align: middle;\n",
       "    }\n",
       "\n",
       "    .dataframe tbody tr th {\n",
       "        vertical-align: top;\n",
       "    }\n",
       "\n",
       "    .dataframe thead th {\n",
       "        text-align: right;\n",
       "    }\n",
       "</style>\n",
       "<table border=\"1\" class=\"dataframe\">\n",
       "  <thead>\n",
       "    <tr style=\"text-align: right;\">\n",
       "      <th></th>\n",
       "      <th>ph</th>\n",
       "      <th>Hardness</th>\n",
       "      <th>Solids</th>\n",
       "      <th>Chloramines</th>\n",
       "      <th>Sulfate</th>\n",
       "      <th>Conductivity</th>\n",
       "      <th>Organic_carbon</th>\n",
       "      <th>Trihalomethanes</th>\n",
       "      <th>Turbidity</th>\n",
       "      <th>Potability</th>\n",
       "    </tr>\n",
       "  </thead>\n",
       "  <tbody>\n",
       "    <tr>\n",
       "      <th>0</th>\n",
       "      <td>NaN</td>\n",
       "      <td>204.890456</td>\n",
       "      <td>20791.31898</td>\n",
       "      <td>7.300212</td>\n",
       "      <td>368.516441</td>\n",
       "      <td>564.308654</td>\n",
       "      <td>10.379783</td>\n",
       "      <td>86.990970</td>\n",
       "      <td>2.963135</td>\n",
       "      <td>0</td>\n",
       "    </tr>\n",
       "    <tr>\n",
       "      <th>1</th>\n",
       "      <td>3.716080</td>\n",
       "      <td>129.422921</td>\n",
       "      <td>18630.05786</td>\n",
       "      <td>6.635246</td>\n",
       "      <td>NaN</td>\n",
       "      <td>592.885359</td>\n",
       "      <td>15.180013</td>\n",
       "      <td>56.329076</td>\n",
       "      <td>4.500656</td>\n",
       "      <td>0</td>\n",
       "    </tr>\n",
       "    <tr>\n",
       "      <th>2</th>\n",
       "      <td>8.099124</td>\n",
       "      <td>224.236259</td>\n",
       "      <td>19909.54173</td>\n",
       "      <td>9.275884</td>\n",
       "      <td>NaN</td>\n",
       "      <td>418.606213</td>\n",
       "      <td>16.868637</td>\n",
       "      <td>66.420093</td>\n",
       "      <td>3.055934</td>\n",
       "      <td>0</td>\n",
       "    </tr>\n",
       "    <tr>\n",
       "      <th>3</th>\n",
       "      <td>8.316766</td>\n",
       "      <td>214.373394</td>\n",
       "      <td>22018.41744</td>\n",
       "      <td>8.059332</td>\n",
       "      <td>356.886136</td>\n",
       "      <td>363.266516</td>\n",
       "      <td>18.436525</td>\n",
       "      <td>100.341674</td>\n",
       "      <td>4.628771</td>\n",
       "      <td>0</td>\n",
       "    </tr>\n",
       "    <tr>\n",
       "      <th>4</th>\n",
       "      <td>9.092223</td>\n",
       "      <td>181.101509</td>\n",
       "      <td>17978.98634</td>\n",
       "      <td>6.546600</td>\n",
       "      <td>310.135738</td>\n",
       "      <td>398.410813</td>\n",
       "      <td>11.558279</td>\n",
       "      <td>31.997993</td>\n",
       "      <td>4.075075</td>\n",
       "      <td>0</td>\n",
       "    </tr>\n",
       "  </tbody>\n",
       "</table>\n",
       "</div>"
      ],
      "text/plain": [
       "         ph    Hardness       Solids  Chloramines     Sulfate  Conductivity  \\\n",
       "0       NaN  204.890456  20791.31898     7.300212  368.516441    564.308654   \n",
       "1  3.716080  129.422921  18630.05786     6.635246         NaN    592.885359   \n",
       "2  8.099124  224.236259  19909.54173     9.275884         NaN    418.606213   \n",
       "3  8.316766  214.373394  22018.41744     8.059332  356.886136    363.266516   \n",
       "4  9.092223  181.101509  17978.98634     6.546600  310.135738    398.410813   \n",
       "\n",
       "   Organic_carbon  Trihalomethanes  Turbidity  Potability  \n",
       "0       10.379783        86.990970   2.963135           0  \n",
       "1       15.180013        56.329076   4.500656           0  \n",
       "2       16.868637        66.420093   3.055934           0  \n",
       "3       18.436525       100.341674   4.628771           0  \n",
       "4       11.558279        31.997993   4.075075           0  "
      ]
     },
     "execution_count": 5,
     "metadata": {},
     "output_type": "execute_result"
    }
   ],
   "source": [
    "df.head()\n"
   ]
  },
  {
   "cell_type": "code",
   "execution_count": 6,
   "metadata": {},
   "outputs": [
    {
     "data": {
      "text/plain": [
       "(3276, 10)"
      ]
     },
     "execution_count": 6,
     "metadata": {},
     "output_type": "execute_result"
    }
   ],
   "source": [
    "df.shape"
   ]
  },
  {
   "cell_type": "code",
   "execution_count": 7,
   "metadata": {},
   "outputs": [
    {
     "name": "stdout",
     "output_type": "stream",
     "text": [
      "<class 'pandas.core.frame.DataFrame'>\n",
      "RangeIndex: 3276 entries, 0 to 3275\n",
      "Data columns (total 10 columns):\n",
      " #   Column           Non-Null Count  Dtype  \n",
      "---  ------           --------------  -----  \n",
      " 0   ph               2785 non-null   float64\n",
      " 1   Hardness         3276 non-null   float64\n",
      " 2   Solids           3276 non-null   float64\n",
      " 3   Chloramines      3276 non-null   float64\n",
      " 4   Sulfate          2495 non-null   float64\n",
      " 5   Conductivity     3276 non-null   float64\n",
      " 6   Organic_carbon   3276 non-null   float64\n",
      " 7   Trihalomethanes  3114 non-null   float64\n",
      " 8   Turbidity        3276 non-null   float64\n",
      " 9   Potability       3276 non-null   int64  \n",
      "dtypes: float64(9), int64(1)\n",
      "memory usage: 256.1 KB\n"
     ]
    }
   ],
   "source": [
    "df.info()"
   ]
  },
  {
   "cell_type": "code",
   "execution_count": 8,
   "metadata": {},
   "outputs": [
    {
     "data": {
      "text/html": [
       "<div>\n",
       "<style scoped>\n",
       "    .dataframe tbody tr th:only-of-type {\n",
       "        vertical-align: middle;\n",
       "    }\n",
       "\n",
       "    .dataframe tbody tr th {\n",
       "        vertical-align: top;\n",
       "    }\n",
       "\n",
       "    .dataframe thead th {\n",
       "        text-align: right;\n",
       "    }\n",
       "</style>\n",
       "<table border=\"1\" class=\"dataframe\">\n",
       "  <thead>\n",
       "    <tr style=\"text-align: right;\">\n",
       "      <th></th>\n",
       "      <th>ph</th>\n",
       "      <th>Hardness</th>\n",
       "      <th>Solids</th>\n",
       "      <th>Chloramines</th>\n",
       "      <th>Sulfate</th>\n",
       "      <th>Conductivity</th>\n",
       "      <th>Organic_carbon</th>\n",
       "      <th>Trihalomethanes</th>\n",
       "      <th>Turbidity</th>\n",
       "      <th>Potability</th>\n",
       "    </tr>\n",
       "  </thead>\n",
       "  <tbody>\n",
       "    <tr>\n",
       "      <th>count</th>\n",
       "      <td>2785.000000</td>\n",
       "      <td>3276.000000</td>\n",
       "      <td>3276.000000</td>\n",
       "      <td>3276.000000</td>\n",
       "      <td>2495.000000</td>\n",
       "      <td>3276.000000</td>\n",
       "      <td>3276.000000</td>\n",
       "      <td>3114.000000</td>\n",
       "      <td>3276.000000</td>\n",
       "      <td>3276.000000</td>\n",
       "    </tr>\n",
       "    <tr>\n",
       "      <th>mean</th>\n",
       "      <td>7.080795</td>\n",
       "      <td>196.369496</td>\n",
       "      <td>22014.092526</td>\n",
       "      <td>7.122277</td>\n",
       "      <td>333.775777</td>\n",
       "      <td>426.205111</td>\n",
       "      <td>14.284970</td>\n",
       "      <td>66.396293</td>\n",
       "      <td>3.966786</td>\n",
       "      <td>0.390110</td>\n",
       "    </tr>\n",
       "    <tr>\n",
       "      <th>std</th>\n",
       "      <td>1.594320</td>\n",
       "      <td>32.879761</td>\n",
       "      <td>8768.570828</td>\n",
       "      <td>1.583085</td>\n",
       "      <td>41.416840</td>\n",
       "      <td>80.824064</td>\n",
       "      <td>3.308162</td>\n",
       "      <td>16.175008</td>\n",
       "      <td>0.780382</td>\n",
       "      <td>0.487849</td>\n",
       "    </tr>\n",
       "    <tr>\n",
       "      <th>min</th>\n",
       "      <td>0.000000</td>\n",
       "      <td>47.432000</td>\n",
       "      <td>320.942611</td>\n",
       "      <td>0.352000</td>\n",
       "      <td>129.000000</td>\n",
       "      <td>181.483754</td>\n",
       "      <td>2.200000</td>\n",
       "      <td>0.738000</td>\n",
       "      <td>1.450000</td>\n",
       "      <td>0.000000</td>\n",
       "    </tr>\n",
       "    <tr>\n",
       "      <th>25%</th>\n",
       "      <td>6.093092</td>\n",
       "      <td>176.850538</td>\n",
       "      <td>15666.690300</td>\n",
       "      <td>6.127421</td>\n",
       "      <td>307.699498</td>\n",
       "      <td>365.734414</td>\n",
       "      <td>12.065801</td>\n",
       "      <td>55.844536</td>\n",
       "      <td>3.439711</td>\n",
       "      <td>0.000000</td>\n",
       "    </tr>\n",
       "    <tr>\n",
       "      <th>50%</th>\n",
       "      <td>7.036752</td>\n",
       "      <td>196.967627</td>\n",
       "      <td>20927.833605</td>\n",
       "      <td>7.130299</td>\n",
       "      <td>333.073546</td>\n",
       "      <td>421.884968</td>\n",
       "      <td>14.218338</td>\n",
       "      <td>66.622485</td>\n",
       "      <td>3.955028</td>\n",
       "      <td>0.000000</td>\n",
       "    </tr>\n",
       "    <tr>\n",
       "      <th>75%</th>\n",
       "      <td>8.062066</td>\n",
       "      <td>216.667456</td>\n",
       "      <td>27332.762125</td>\n",
       "      <td>8.114887</td>\n",
       "      <td>359.950170</td>\n",
       "      <td>481.792305</td>\n",
       "      <td>16.557652</td>\n",
       "      <td>77.337473</td>\n",
       "      <td>4.500320</td>\n",
       "      <td>1.000000</td>\n",
       "    </tr>\n",
       "    <tr>\n",
       "      <th>max</th>\n",
       "      <td>14.000000</td>\n",
       "      <td>323.124000</td>\n",
       "      <td>61227.196010</td>\n",
       "      <td>13.127000</td>\n",
       "      <td>481.030642</td>\n",
       "      <td>753.342620</td>\n",
       "      <td>28.300000</td>\n",
       "      <td>124.000000</td>\n",
       "      <td>6.739000</td>\n",
       "      <td>1.000000</td>\n",
       "    </tr>\n",
       "  </tbody>\n",
       "</table>\n",
       "</div>"
      ],
      "text/plain": [
       "                ph     Hardness        Solids  Chloramines      Sulfate  \\\n",
       "count  2785.000000  3276.000000   3276.000000  3276.000000  2495.000000   \n",
       "mean      7.080795   196.369496  22014.092526     7.122277   333.775777   \n",
       "std       1.594320    32.879761   8768.570828     1.583085    41.416840   \n",
       "min       0.000000    47.432000    320.942611     0.352000   129.000000   \n",
       "25%       6.093092   176.850538  15666.690300     6.127421   307.699498   \n",
       "50%       7.036752   196.967627  20927.833605     7.130299   333.073546   \n",
       "75%       8.062066   216.667456  27332.762125     8.114887   359.950170   \n",
       "max      14.000000   323.124000  61227.196010    13.127000   481.030642   \n",
       "\n",
       "       Conductivity  Organic_carbon  Trihalomethanes    Turbidity   Potability  \n",
       "count   3276.000000     3276.000000      3114.000000  3276.000000  3276.000000  \n",
       "mean     426.205111       14.284970        66.396293     3.966786     0.390110  \n",
       "std       80.824064        3.308162        16.175008     0.780382     0.487849  \n",
       "min      181.483754        2.200000         0.738000     1.450000     0.000000  \n",
       "25%      365.734414       12.065801        55.844536     3.439711     0.000000  \n",
       "50%      421.884968       14.218338        66.622485     3.955028     0.000000  \n",
       "75%      481.792305       16.557652        77.337473     4.500320     1.000000  \n",
       "max      753.342620       28.300000       124.000000     6.739000     1.000000  "
      ]
     },
     "execution_count": 8,
     "metadata": {},
     "output_type": "execute_result"
    }
   ],
   "source": [
    "df.describe()"
   ]
  },
  {
   "cell_type": "markdown",
   "metadata": {},
   "source": [
    "# Finding missing value"
   ]
  },
  {
   "cell_type": "code",
   "execution_count": 9,
   "metadata": {},
   "outputs": [
    {
     "data": {
      "text/plain": [
       "ph                 491\n",
       "Hardness             0\n",
       "Solids               0\n",
       "Chloramines          0\n",
       "Sulfate            781\n",
       "Conductivity         0\n",
       "Organic_carbon       0\n",
       "Trihalomethanes    162\n",
       "Turbidity            0\n",
       "Potability           0\n",
       "dtype: int64"
      ]
     },
     "execution_count": 9,
     "metadata": {},
     "output_type": "execute_result"
    }
   ],
   "source": [
    "df.isnull().sum()"
   ]
  },
  {
   "cell_type": "code",
   "execution_count": 10,
   "metadata": {
    "scrolled": true
   },
   "outputs": [
    {
     "name": "stdout",
     "output_type": "stream",
     "text": [
      "ph : 14.99%\n",
      "Sulfate : 23.84%\n",
      "Trihalomethanes : 4.95%\n"
     ]
    }
   ],
   "source": [
    "for feature in df.columns:\n",
    "    if df[feature].isnull().sum()>0:\n",
    "        print(f\"{feature} : {round(df[feature].isnull().mean(),4)*100}%\")"
   ]
  },
  {
   "cell_type": "code",
   "execution_count": 11,
   "metadata": {},
   "outputs": [],
   "source": [
    "## Fill missing values with median\n",
    "for feature in df.columns:\n",
    "    df[feature].fillna(df[feature].median() , inplace = True)"
   ]
  },
  {
   "cell_type": "code",
   "execution_count": 12,
   "metadata": {},
   "outputs": [
    {
     "data": {
      "text/html": [
       "<div>\n",
       "<style scoped>\n",
       "    .dataframe tbody tr th:only-of-type {\n",
       "        vertical-align: middle;\n",
       "    }\n",
       "\n",
       "    .dataframe tbody tr th {\n",
       "        vertical-align: top;\n",
       "    }\n",
       "\n",
       "    .dataframe thead th {\n",
       "        text-align: right;\n",
       "    }\n",
       "</style>\n",
       "<table border=\"1\" class=\"dataframe\">\n",
       "  <thead>\n",
       "    <tr style=\"text-align: right;\">\n",
       "      <th></th>\n",
       "      <th>ph</th>\n",
       "      <th>Hardness</th>\n",
       "      <th>Solids</th>\n",
       "      <th>Chloramines</th>\n",
       "      <th>Sulfate</th>\n",
       "      <th>Conductivity</th>\n",
       "      <th>Organic_carbon</th>\n",
       "      <th>Trihalomethanes</th>\n",
       "      <th>Turbidity</th>\n",
       "      <th>Potability</th>\n",
       "    </tr>\n",
       "  </thead>\n",
       "  <tbody>\n",
       "  </tbody>\n",
       "</table>\n",
       "</div>"
      ],
      "text/plain": [
       "Empty DataFrame\n",
       "Columns: [ph, Hardness, Solids, Chloramines, Sulfate, Conductivity, Organic_carbon, Trihalomethanes, Turbidity, Potability]\n",
       "Index: []"
      ]
     },
     "execution_count": 12,
     "metadata": {},
     "output_type": "execute_result"
    }
   ],
   "source": [
    "## find dublicate rows in dataset\n",
    "duplicate = df[df.duplicated()]\n",
    "duplicate"
   ]
  },
  {
   "cell_type": "code",
   "execution_count": 13,
   "metadata": {},
   "outputs": [
    {
     "name": "stdout",
     "output_type": "stream",
     "text": [
      " ph  :  2785\n",
      " Hardness  :  3276\n",
      " Solids  :  3276\n",
      " Chloramines  :  3276\n",
      " Sulfate  :  2495\n",
      " Conductivity  :  3276\n",
      " Organic_carbon  :  3276\n",
      " Trihalomethanes  :  3115\n",
      " Turbidity  :  3276\n",
      " Potability  :  2\n"
     ]
    }
   ],
   "source": [
    "for i in df.columns:\n",
    "    print(f\" {i}  :  {len(df[i].unique())}\")"
   ]
  },
  {
   "cell_type": "markdown",
   "metadata": {
    "scrolled": true
   },
   "source": [
    "\n",
    "# Finding missing value1"
   ]
  },
  {
   "cell_type": "code",
   "execution_count": 14,
   "metadata": {},
   "outputs": [
    {
     "data": {
      "text/plain": [
       "0       False\n",
       "1       False\n",
       "2       False\n",
       "3       False\n",
       "4       False\n",
       "        ...  \n",
       "3271    False\n",
       "3272    False\n",
       "3273    False\n",
       "3274    False\n",
       "3275    False\n",
       "Name: Solids, Length: 3276, dtype: bool"
      ]
     },
     "execution_count": 14,
     "metadata": {},
     "output_type": "execute_result"
    }
   ],
   "source": [
    "d=pd.read_csv(\"water_potability.csv\")\n",
    "pd.isnull(d[\"Solids\"])"
   ]
  },
  {
   "cell_type": "markdown",
   "metadata": {},
   "source": [
    "# Finding missing value 2"
   ]
  },
  {
   "cell_type": "code",
   "execution_count": 15,
   "metadata": {},
   "outputs": [
    {
     "data": {
      "text/plain": [
       "0       False\n",
       "1       False\n",
       "2       False\n",
       "3       False\n",
       "4       False\n",
       "        ...  \n",
       "3271    False\n",
       "3272    False\n",
       "3273    False\n",
       "3274    False\n",
       "3275    False\n",
       "Name: Turbidity, Length: 3276, dtype: bool"
      ]
     },
     "execution_count": 15,
     "metadata": {},
     "output_type": "execute_result"
    }
   ],
   "source": [
    "d=pd.read_csv(\"water_potability.csv\")\n",
    "pd.isnull(d[\"Turbidity\"])"
   ]
  },
  {
   "cell_type": "markdown",
   "metadata": {},
   "source": [
    "# Finding missing value 3"
   ]
  },
  {
   "cell_type": "code",
   "execution_count": 16,
   "metadata": {},
   "outputs": [
    {
     "data": {
      "text/plain": [
       "0        True\n",
       "1       False\n",
       "2       False\n",
       "3       False\n",
       "4       False\n",
       "        ...  \n",
       "3271    False\n",
       "3272    False\n",
       "3273    False\n",
       "3274    False\n",
       "3275    False\n",
       "Name: ph, Length: 3276, dtype: bool"
      ]
     },
     "execution_count": 16,
     "metadata": {},
     "output_type": "execute_result"
    }
   ],
   "source": [
    "d=pd.read_csv(\"water_potability.csv\")\n",
    "pd.isnull(d[\"ph\"])"
   ]
  },
  {
   "cell_type": "code",
   "execution_count": 17,
   "metadata": {},
   "outputs": [
    {
     "name": "stdout",
     "output_type": "stream",
     "text": [
      "ph                     1.592377\n",
      "Hardness              39.816918\n",
      "Solids             11666.071825\n",
      "Chloramines            1.987466\n",
      "Sulfate               33.291119\n",
      "Conductivity         116.057890\n",
      "Organic_carbon         4.491850\n",
      "Trihalomethanes       20.018954\n",
      "Turbidity              1.060609\n",
      "Potability             1.000000\n",
      "dtype: float64\n"
     ]
    }
   ],
   "source": [
    "# removing outliers\n",
    "Q1 = df.quantile(0.25)\n",
    "Q3 = df.quantile(0.75)\n",
    "IQR = Q3 - Q1\n",
    "print(IQR)"
   ]
  },
  {
   "cell_type": "markdown",
   "metadata": {},
   "source": [
    "# Splitting dependent and independent columns"
   ]
  },
  {
   "cell_type": "code",
   "execution_count": 18,
   "metadata": {},
   "outputs": [],
   "source": [
    "X = df.iloc[: , : -1]\n",
    "y = df.iloc[ : , -1]"
   ]
  },
  {
   "cell_type": "code",
   "execution_count": 19,
   "metadata": {},
   "outputs": [
    {
     "data": {
      "text/plain": [
       "(3276, 9)"
      ]
     },
     "execution_count": 19,
     "metadata": {},
     "output_type": "execute_result"
    }
   ],
   "source": [
    "X.shape"
   ]
  },
  {
   "cell_type": "code",
   "execution_count": 20,
   "metadata": {},
   "outputs": [
    {
     "data": {
      "text/plain": [
       "(3276,)"
      ]
     },
     "execution_count": 20,
     "metadata": {},
     "output_type": "execute_result"
    }
   ],
   "source": [
    "y.shape"
   ]
  },
  {
   "cell_type": "markdown",
   "metadata": {},
   "source": [
    "# Splitting the data into train and test"
   ]
  },
  {
   "cell_type": "code",
   "execution_count": 21,
   "metadata": {},
   "outputs": [],
   "source": [
    "from sklearn.model_selection import train_test_split\n",
    "X_train, X_test, y_train, y_test = train_test_split(X, y, test_size = 0.3, random_state= 5)"
   ]
  },
  {
   "cell_type": "markdown",
   "metadata": {},
   "source": [
    "# Model building"
   ]
  },
  {
   "cell_type": "code",
   "execution_count": 22,
   "metadata": {},
   "outputs": [],
   "source": [
    "from sklearn.preprocessing import StandardScaler\n",
    "sc = StandardScaler()\n",
    "X_train_final = sc.fit_transform(X_train)\n",
    "X_test_final = sc.transform(X_test)"
   ]
  },
  {
   "cell_type": "code",
   "execution_count": 23,
   "metadata": {},
   "outputs": [],
   "source": [
    "from sklearn.metrics import confusion_matrix, classification_report, accuracy_score"
   ]
  },
  {
   "cell_type": "code",
   "execution_count": 24,
   "metadata": {},
   "outputs": [
    {
     "data": {
      "text/plain": [
       "0.6439471007121058"
      ]
     },
     "execution_count": 24,
     "metadata": {},
     "output_type": "execute_result"
    }
   ],
   "source": [
    "# Random Forest Classifier\n",
    "from sklearn.ensemble import RandomForestClassifier\n",
    "rf_classifier = RandomForestClassifier(n_estimators = 20, criterion = 'entropy', class_weight = \"balanced_subsample\",random_state = 51)\n",
    "rf_classifier.fit(X_train_final, y_train)\n",
    "y_pred = rf_classifier.predict(X_test_final)\n",
    "accuracy_score(y_test, y_pred)"
   ]
  },
  {
   "cell_type": "code",
   "execution_count": 25,
   "metadata": {},
   "outputs": [
    {
     "name": "stdout",
     "output_type": "stream",
     "text": [
      "              precision    recall  f1-score   support\n",
      "\n",
      "           0       0.67      0.84      0.75       614\n",
      "           1       0.55      0.31      0.40       369\n",
      "\n",
      "    accuracy                           0.64       983\n",
      "   macro avg       0.61      0.58      0.57       983\n",
      "weighted avg       0.62      0.64      0.62       983\n",
      "\n"
     ]
    }
   ],
   "source": [
    "print(classification_report(y_test, y_pred))"
   ]
  },
  {
   "cell_type": "code",
   "execution_count": 26,
   "metadata": {},
   "outputs": [
    {
     "data": {
      "text/plain": [
       "0.6602238046795524"
      ]
     },
     "execution_count": 26,
     "metadata": {},
     "output_type": "execute_result"
    }
   ],
   "source": [
    "# XGBoost Classifier\n",
    "from xgboost import XGBClassifier\n",
    "xgb_classifier = XGBClassifier(random_state=0)\n",
    "xgb_classifier.fit(X_train_final, y_train)\n",
    "y_pred_xgb = xgb_classifier.predict(X_test_final)\n",
    "accuracy_score(y_test, y_pred_xgb)"
   ]
  },
  {
   "cell_type": "code",
   "execution_count": 27,
   "metadata": {},
   "outputs": [
    {
     "name": "stdout",
     "output_type": "stream",
     "text": [
      "              precision    recall  f1-score   support\n",
      "\n",
      "           0       0.71      0.78      0.74       614\n",
      "           1       0.56      0.46      0.51       369\n",
      "\n",
      "    accuracy                           0.66       983\n",
      "   macro avg       0.63      0.62      0.62       983\n",
      "weighted avg       0.65      0.66      0.65       983\n",
      "\n"
     ]
    }
   ],
   "source": [
    "print(classification_report(y_test, y_pred_xgb))"
   ]
  },
  {
   "cell_type": "markdown",
   "metadata": {},
   "source": [
    "# Support vector Machine"
   ]
  },
  {
   "cell_type": "code",
   "execution_count": 28,
   "metadata": {},
   "outputs": [
    {
     "data": {
      "text/plain": [
       "0.6459816887080366"
      ]
     },
     "execution_count": 28,
     "metadata": {},
     "output_type": "execute_result"
    }
   ],
   "source": [
    "# Support vector classifier\n",
    "from sklearn.svm import SVC\n",
    "svc_classifier = SVC(class_weight = \"balanced\" )\n",
    "svc_classifier.fit(X_train_final, y_train)\n",
    "y_pred_scv = svc_classifier.predict(X_test_final)\n",
    "accuracy_score(y_test, y_pred_scv)"
   ]
  },
  {
   "cell_type": "code",
   "execution_count": 29,
   "metadata": {},
   "outputs": [
    {
     "name": "stdout",
     "output_type": "stream",
     "text": [
      "              precision    recall  f1-score   support\n",
      "\n",
      "           0       0.72      0.71      0.72       614\n",
      "           1       0.53      0.53      0.53       369\n",
      "\n",
      "    accuracy                           0.65       983\n",
      "   macro avg       0.62      0.62      0.62       983\n",
      "weighted avg       0.65      0.65      0.65       983\n",
      "\n"
     ]
    }
   ],
   "source": [
    "print(classification_report(y_test, y_pred_scv))"
   ]
  },
  {
   "cell_type": "code",
   "execution_count": 30,
   "metadata": {},
   "outputs": [
    {
     "data": {
      "image/png": "[encoded data removed]",
      "text/plain": [
       "<Figure size 432x288 with 2 Axes>"
      ]
     },
     "metadata": {
      "needs_background": "light"
     },
     "output_type": "display_data"
    }
   ],
   "source": [
    "cm = confusion_matrix(y_test, y_pred_scv)\n",
    "plt.title('Heatmap of Confusion Matrix', fontsize = 12)\n",
    "sns.heatmap(cm, annot = True, fmt = \"d\")\n",
    "plt.show()"
   ]
  },
  {
   "cell_type": "code",
   "execution_count": 31,
   "metadata": {},
   "outputs": [],
   "source": [
    "# defining parameter range\n",
    "param_grid = {'C': [0.1, 1, 10, 100, 200 , 400 , 600 , 800], \n",
    "              'gamma': [1, 0.1, 0.01, 0.001, 0.0001],\n",
    "              'kernel': ['rbf']}"
   ]
  },
  {
   "cell_type": "code",
   "execution_count": 32,
   "metadata": {},
   "outputs": [],
   "source": [
    "from sklearn.model_selection import GridSearchCV"
   ]
  },
  {
   "cell_type": "code",
   "execution_count": 33,
   "metadata": {},
   "outputs": [
    {
     "name": "stdout",
     "output_type": "stream",
     "text": [
      "Fitting 5 folds for each of 40 candidates, totalling 200 fits\n",
      "[CV 1/5] END .....................C=0.1, gamma=1, kernel=rbf; total time=   0.9s\n",
      "[CV 2/5] END .....................C=0.1, gamma=1, kernel=rbf; total time=   0.7s\n",
      "[CV 3/5] END .....................C=0.1, gamma=1, kernel=rbf; total time=   0.8s\n",
      "[CV 4/5] END .....................C=0.1, gamma=1, kernel=rbf; total time=   0.7s\n",
      "[CV 5/5] END .....................C=0.1, gamma=1, kernel=rbf; total time=   1.1s\n",
      "[CV 1/5] END ...................C=0.1, gamma=0.1, kernel=rbf; total time=   0.7s\n",
      "[CV 2/5] END ...................C=0.1, gamma=0.1, kernel=rbf; total time=   0.4s\n",
      "[CV 3/5] END ...................C=0.1, gamma=0.1, kernel=rbf; total time=   0.5s\n",
      "[CV 4/5] END ...................C=0.1, gamma=0.1, kernel=rbf; total time=   0.4s\n",
      "[CV 5/5] END ...................C=0.1, gamma=0.1, kernel=rbf; total time=   0.4s\n",
      "[CV 1/5] END ..................C=0.1, gamma=0.01, kernel=rbf; total time=   0.5s\n",
      "[CV 2/5] END ..................C=0.1, gamma=0.01, kernel=rbf; total time=   0.4s\n",
      "[CV 3/5] END ..................C=0.1, gamma=0.01, kernel=rbf; total time=   0.8s\n",
      "[CV 4/5] END ..................C=0.1, gamma=0.01, kernel=rbf; total time=   0.5s\n",
      "[CV 5/5] END ..................C=0.1, gamma=0.01, kernel=rbf; total time=   1.3s\n",
      "[CV 1/5] END .................C=0.1, gamma=0.001, kernel=rbf; total time=   0.7s\n",
      "[CV 2/5] END .................C=0.1, gamma=0.001, kernel=rbf; total time=   0.7s\n",
      "[CV 3/5] END .................C=0.1, gamma=0.001, kernel=rbf; total time=   1.0s\n",
      "[CV 4/5] END .................C=0.1, gamma=0.001, kernel=rbf; total time=   0.6s\n",
      "[CV 5/5] END .................C=0.1, gamma=0.001, kernel=rbf; total time=   0.8s\n",
      "[CV 1/5] END ................C=0.1, gamma=0.0001, kernel=rbf; total time=   0.7s\n",
      "[CV 2/5] END ................C=0.1, gamma=0.0001, kernel=rbf; total time=   0.6s\n",
      "[CV 3/5] END ................C=0.1, gamma=0.0001, kernel=rbf; total time=   0.6s\n",
      "[CV 4/5] END ................C=0.1, gamma=0.0001, kernel=rbf; total time=   1.0s\n",
      "[CV 5/5] END ................C=0.1, gamma=0.0001, kernel=rbf; total time=   1.6s\n",
      "[CV 1/5] END .......................C=1, gamma=1, kernel=rbf; total time=   1.9s\n",
      "[CV 2/5] END .......................C=1, gamma=1, kernel=rbf; total time=   1.5s\n",
      "[CV 3/5] END .......................C=1, gamma=1, kernel=rbf; total time=   1.1s\n",
      "[CV 4/5] END .......................C=1, gamma=1, kernel=rbf; total time=   1.0s\n",
      "[CV 5/5] END .......................C=1, gamma=1, kernel=rbf; total time=   2.0s\n",
      "[CV 1/5] END .....................C=1, gamma=0.1, kernel=rbf; total time=   1.3s\n",
      "[CV 2/5] END .....................C=1, gamma=0.1, kernel=rbf; total time=   1.0s\n",
      "[CV 3/5] END .....................C=1, gamma=0.1, kernel=rbf; total time=   0.9s\n",
      "[CV 4/5] END .....................C=1, gamma=0.1, kernel=rbf; total time=   1.8s\n",
      "[CV 5/5] END .....................C=1, gamma=0.1, kernel=rbf; total time=   1.0s\n",
      "[CV 1/5] END ....................C=1, gamma=0.01, kernel=rbf; total time=   1.0s\n",
      "[CV 2/5] END ....................C=1, gamma=0.01, kernel=rbf; total time=   0.9s\n",
      "[CV 3/5] END ....................C=1, gamma=0.01, kernel=rbf; total time=   1.0s\n",
      "[CV 4/5] END ....................C=1, gamma=0.01, kernel=rbf; total time=   0.7s\n",
      "[CV 5/5] END ....................C=1, gamma=0.01, kernel=rbf; total time=   0.7s\n",
      "[CV 1/5] END ...................C=1, gamma=0.001, kernel=rbf; total time=   1.0s\n",
      "[CV 2/5] END ...................C=1, gamma=0.001, kernel=rbf; total time=   0.7s\n",
      "[CV 3/5] END ...................C=1, gamma=0.001, kernel=rbf; total time=   0.8s\n",
      "[CV 4/5] END ...................C=1, gamma=0.001, kernel=rbf; total time=   0.9s\n",
      "[CV 5/5] END ...................C=1, gamma=0.001, kernel=rbf; total time=   1.2s\n",
      "[CV 1/5] END ..................C=1, gamma=0.0001, kernel=rbf; total time=   0.8s\n",
      "[CV 2/5] END ..................C=1, gamma=0.0001, kernel=rbf; total time=   0.7s\n",
      "[CV 3/5] END ..................C=1, gamma=0.0001, kernel=rbf; total time=   1.2s\n",
      "[CV 4/5] END ..................C=1, gamma=0.0001, kernel=rbf; total time=   0.6s\n",
      "[CV 5/5] END ..................C=1, gamma=0.0001, kernel=rbf; total time=   0.7s\n",
      "[CV 1/5] END ......................C=10, gamma=1, kernel=rbf; total time=   1.1s\n",
      "[CV 2/5] END ......................C=10, gamma=1, kernel=rbf; total time=   1.4s\n",
      "[CV 3/5] END ......................C=10, gamma=1, kernel=rbf; total time=   1.3s\n",
      "[CV 4/5] END ......................C=10, gamma=1, kernel=rbf; total time=   1.3s\n",
      "[CV 5/5] END ......................C=10, gamma=1, kernel=rbf; total time=   0.8s\n",
      "[CV 1/5] END ....................C=10, gamma=0.1, kernel=rbf; total time=   0.9s\n",
      "[CV 2/5] END ....................C=10, gamma=0.1, kernel=rbf; total time=   0.8s\n",
      "[CV 3/5] END ....................C=10, gamma=0.1, kernel=rbf; total time=   0.9s\n",
      "[CV 4/5] END ....................C=10, gamma=0.1, kernel=rbf; total time=   1.0s\n",
      "[CV 5/5] END ....................C=10, gamma=0.1, kernel=rbf; total time=   1.3s\n",
      "[CV 1/5] END ...................C=10, gamma=0.01, kernel=rbf; total time=   0.7s\n",
      "[CV 2/5] END ...................C=10, gamma=0.01, kernel=rbf; total time=   0.8s\n",
      "[CV 3/5] END ...................C=10, gamma=0.01, kernel=rbf; total time=   1.1s\n",
      "[CV 4/5] END ...................C=10, gamma=0.01, kernel=rbf; total time=   1.2s\n",
      "[CV 5/5] END ...................C=10, gamma=0.01, kernel=rbf; total time=   1.0s\n",
      "[CV 1/5] END ..................C=10, gamma=0.001, kernel=rbf; total time=   1.5s\n",
      "[CV 2/5] END ..................C=10, gamma=0.001, kernel=rbf; total time=   1.4s\n",
      "[CV 3/5] END ..................C=10, gamma=0.001, kernel=rbf; total time=   0.7s\n",
      "[CV 4/5] END ..................C=10, gamma=0.001, kernel=rbf; total time=   0.9s\n",
      "[CV 5/5] END ..................C=10, gamma=0.001, kernel=rbf; total time=   1.5s\n",
      "[CV 1/5] END .................C=10, gamma=0.0001, kernel=rbf; total time=   0.8s\n",
      "[CV 2/5] END .................C=10, gamma=0.0001, kernel=rbf; total time=   0.8s\n",
      "[CV 3/5] END .................C=10, gamma=0.0001, kernel=rbf; total time=   0.8s\n",
      "[CV 4/5] END .................C=10, gamma=0.0001, kernel=rbf; total time=   0.7s\n",
      "[CV 5/5] END .................C=10, gamma=0.0001, kernel=rbf; total time=   0.6s\n",
      "[CV 1/5] END .....................C=100, gamma=1, kernel=rbf; total time=   0.7s\n",
      "[CV 2/5] END .....................C=100, gamma=1, kernel=rbf; total time=   0.8s\n",
      "[CV 3/5] END .....................C=100, gamma=1, kernel=rbf; total time=   0.7s\n",
      "[CV 4/5] END .....................C=100, gamma=1, kernel=rbf; total time=   0.8s\n",
      "[CV 5/5] END .....................C=100, gamma=1, kernel=rbf; total time=   2.4s\n",
      "[CV 1/5] END ...................C=100, gamma=0.1, kernel=rbf; total time=   2.8s\n",
      "[CV 2/5] END ...................C=100, gamma=0.1, kernel=rbf; total time=   2.2s\n",
      "[CV 3/5] END ...................C=100, gamma=0.1, kernel=rbf; total time=   2.0s\n",
      "[CV 4/5] END ...................C=100, gamma=0.1, kernel=rbf; total time=   2.2s\n",
      "[CV 5/5] END ...................C=100, gamma=0.1, kernel=rbf; total time=   2.1s\n",
      "[CV 1/5] END ..................C=100, gamma=0.01, kernel=rbf; total time=   0.9s\n",
      "[CV 2/5] END ..................C=100, gamma=0.01, kernel=rbf; total time=   0.9s\n",
      "[CV 3/5] END ..................C=100, gamma=0.01, kernel=rbf; total time=   0.8s\n",
      "[CV 4/5] END ..................C=100, gamma=0.01, kernel=rbf; total time=   0.9s\n",
      "[CV 5/5] END ..................C=100, gamma=0.01, kernel=rbf; total time=   0.9s\n",
      "[CV 1/5] END .................C=100, gamma=0.001, kernel=rbf; total time=   0.6s\n",
      "[CV 2/5] END .................C=100, gamma=0.001, kernel=rbf; total time=   0.7s\n",
      "[CV 3/5] END .................C=100, gamma=0.001, kernel=rbf; total time=   0.7s\n",
      "[CV 4/5] END .................C=100, gamma=0.001, kernel=rbf; total time=   0.6s\n",
      "[CV 5/5] END .................C=100, gamma=0.001, kernel=rbf; total time=   0.7s\n",
      "[CV 1/5] END ................C=100, gamma=0.0001, kernel=rbf; total time=   0.9s\n",
      "[CV 2/5] END ................C=100, gamma=0.0001, kernel=rbf; total time=   1.0s\n",
      "[CV 3/5] END ................C=100, gamma=0.0001, kernel=rbf; total time=   0.8s\n",
      "[CV 4/5] END ................C=100, gamma=0.0001, kernel=rbf; total time=   1.1s\n",
      "[CV 5/5] END ................C=100, gamma=0.0001, kernel=rbf; total time=   0.9s\n",
      "[CV 1/5] END .....................C=200, gamma=1, kernel=rbf; total time=   1.0s\n",
      "[CV 2/5] END .....................C=200, gamma=1, kernel=rbf; total time=   0.8s\n",
      "[CV 3/5] END .....................C=200, gamma=1, kernel=rbf; total time=   0.8s\n",
      "[CV 4/5] END .....................C=200, gamma=1, kernel=rbf; total time=   1.4s\n",
      "[CV 5/5] END .....................C=200, gamma=1, kernel=rbf; total time=   1.0s\n",
      "[CV 1/5] END ...................C=200, gamma=0.1, kernel=rbf; total time=   3.2s\n",
      "[CV 2/5] END ...................C=200, gamma=0.1, kernel=rbf; total time=   4.4s\n",
      "[CV 3/5] END ...................C=200, gamma=0.1, kernel=rbf; total time=   3.5s\n",
      "[CV 4/5] END ...................C=200, gamma=0.1, kernel=rbf; total time=   3.7s\n",
      "[CV 5/5] END ...................C=200, gamma=0.1, kernel=rbf; total time=   3.4s\n",
      "[CV 1/5] END ..................C=200, gamma=0.01, kernel=rbf; total time=   1.1s\n",
      "[CV 2/5] END ..................C=200, gamma=0.01, kernel=rbf; total time=   1.3s\n",
      "[CV 3/5] END ..................C=200, gamma=0.01, kernel=rbf; total time=   1.1s\n",
      "[CV 4/5] END ..................C=200, gamma=0.01, kernel=rbf; total time=   1.3s\n",
      "[CV 5/5] END ..................C=200, gamma=0.01, kernel=rbf; total time=   1.8s\n",
      "[CV 1/5] END .................C=200, gamma=0.001, kernel=rbf; total time=   0.9s\n",
      "[CV 2/5] END .................C=200, gamma=0.001, kernel=rbf; total time=   0.8s\n",
      "[CV 3/5] END .................C=200, gamma=0.001, kernel=rbf; total time=   0.8s\n",
      "[CV 4/5] END .................C=200, gamma=0.001, kernel=rbf; total time=   0.7s\n",
      "[CV 5/5] END .................C=200, gamma=0.001, kernel=rbf; total time=   0.9s\n",
      "[CV 1/5] END ................C=200, gamma=0.0001, kernel=rbf; total time=   1.1s\n",
      "[CV 2/5] END ................C=200, gamma=0.0001, kernel=rbf; total time=   1.2s\n",
      "[CV 3/5] END ................C=200, gamma=0.0001, kernel=rbf; total time=   1.1s\n",
      "[CV 4/5] END ................C=200, gamma=0.0001, kernel=rbf; total time=   0.8s\n",
      "[CV 5/5] END ................C=200, gamma=0.0001, kernel=rbf; total time=   1.3s\n",
      "[CV 1/5] END .....................C=400, gamma=1, kernel=rbf; total time=   1.1s\n",
      "[CV 2/5] END .....................C=400, gamma=1, kernel=rbf; total time=   1.0s\n",
      "[CV 3/5] END .....................C=400, gamma=1, kernel=rbf; total time=   1.6s\n",
      "[CV 4/5] END .....................C=400, gamma=1, kernel=rbf; total time=   1.5s\n",
      "[CV 5/5] END .....................C=400, gamma=1, kernel=rbf; total time=   1.2s\n",
      "[CV 1/5] END ...................C=400, gamma=0.1, kernel=rbf; total time=   5.5s\n",
      "[CV 2/5] END ...................C=400, gamma=0.1, kernel=rbf; total time=   5.3s\n",
      "[CV 3/5] END ...................C=400, gamma=0.1, kernel=rbf; total time=   5.5s\n",
      "[CV 4/5] END ...................C=400, gamma=0.1, kernel=rbf; total time=   6.1s\n",
      "[CV 5/5] END ...................C=400, gamma=0.1, kernel=rbf; total time=   4.5s\n",
      "[CV 1/5] END ..................C=400, gamma=0.01, kernel=rbf; total time=   1.8s\n",
      "[CV 2/5] END ..................C=400, gamma=0.01, kernel=rbf; total time=   2.3s\n",
      "[CV 3/5] END ..................C=400, gamma=0.01, kernel=rbf; total time=   1.8s\n",
      "[CV 4/5] END ..................C=400, gamma=0.01, kernel=rbf; total time=   1.8s\n",
      "[CV 5/5] END ..................C=400, gamma=0.01, kernel=rbf; total time=   2.4s\n",
      "[CV 1/5] END .................C=400, gamma=0.001, kernel=rbf; total time=   1.3s\n",
      "[CV 2/5] END .................C=400, gamma=0.001, kernel=rbf; total time=   1.1s\n",
      "[CV 3/5] END .................C=400, gamma=0.001, kernel=rbf; total time=   1.0s\n",
      "[CV 4/5] END .................C=400, gamma=0.001, kernel=rbf; total time=   0.9s\n",
      "[CV 5/5] END .................C=400, gamma=0.001, kernel=rbf; total time=   1.1s\n",
      "[CV 1/5] END ................C=400, gamma=0.0001, kernel=rbf; total time=   0.9s\n",
      "[CV 2/5] END ................C=400, gamma=0.0001, kernel=rbf; total time=   1.1s\n",
      "[CV 3/5] END ................C=400, gamma=0.0001, kernel=rbf; total time=   1.0s\n",
      "[CV 4/5] END ................C=400, gamma=0.0001, kernel=rbf; total time=   0.8s\n",
      "[CV 5/5] END ................C=400, gamma=0.0001, kernel=rbf; total time=   0.9s\n",
      "[CV 1/5] END .....................C=600, gamma=1, kernel=rbf; total time=   0.8s\n",
      "[CV 2/5] END .....................C=600, gamma=1, kernel=rbf; total time=   0.9s\n",
      "[CV 3/5] END .....................C=600, gamma=1, kernel=rbf; total time=   0.9s\n",
      "[CV 4/5] END .....................C=600, gamma=1, kernel=rbf; total time=   1.4s\n",
      "[CV 5/5] END .....................C=600, gamma=1, kernel=rbf; total time=   1.0s\n",
      "[CV 1/5] END ...................C=600, gamma=0.1, kernel=rbf; total time=   5.8s\n",
      "[CV 2/5] END ...................C=600, gamma=0.1, kernel=rbf; total time=   6.0s\n",
      "[CV 3/5] END ...................C=600, gamma=0.1, kernel=rbf; total time=   6.0s\n",
      "[CV 4/5] END ...................C=600, gamma=0.1, kernel=rbf; total time=   5.7s\n",
      "[CV 5/5] END ...................C=600, gamma=0.1, kernel=rbf; total time=   5.3s\n",
      "[CV 1/5] END ..................C=600, gamma=0.01, kernel=rbf; total time=   2.6s\n",
      "[CV 2/5] END ..................C=600, gamma=0.01, kernel=rbf; total time=   2.9s\n",
      "[CV 3/5] END ..................C=600, gamma=0.01, kernel=rbf; total time=   2.3s\n",
      "[CV 4/5] END ..................C=600, gamma=0.01, kernel=rbf; total time=   2.4s\n",
      "[CV 5/5] END ..................C=600, gamma=0.01, kernel=rbf; total time=   3.8s\n",
      "[CV 1/5] END .................C=600, gamma=0.001, kernel=rbf; total time=   0.9s\n",
      "[CV 2/5] END .................C=600, gamma=0.001, kernel=rbf; total time=   0.9s\n",
      "[CV 3/5] END .................C=600, gamma=0.001, kernel=rbf; total time=   1.1s\n",
      "[CV 4/5] END .................C=600, gamma=0.001, kernel=rbf; total time=   1.1s\n",
      "[CV 5/5] END .................C=600, gamma=0.001, kernel=rbf; total time=   1.2s\n",
      "[CV 1/5] END ................C=600, gamma=0.0001, kernel=rbf; total time=   1.6s\n",
      "[CV 2/5] END ................C=600, gamma=0.0001, kernel=rbf; total time=   1.2s\n",
      "[CV 3/5] END ................C=600, gamma=0.0001, kernel=rbf; total time=   1.1s\n",
      "[CV 4/5] END ................C=600, gamma=0.0001, kernel=rbf; total time=   0.9s\n",
      "[CV 5/5] END ................C=600, gamma=0.0001, kernel=rbf; total time=   1.1s\n",
      "[CV 1/5] END .....................C=800, gamma=1, kernel=rbf; total time=   1.0s\n",
      "[CV 2/5] END .....................C=800, gamma=1, kernel=rbf; total time=   1.0s\n",
      "[CV 3/5] END .....................C=800, gamma=1, kernel=rbf; total time=   0.8s\n",
      "[CV 4/5] END .....................C=800, gamma=1, kernel=rbf; total time=   1.0s\n",
      "[CV 5/5] END .....................C=800, gamma=1, kernel=rbf; total time=   0.9s\n",
      "[CV 1/5] END ...................C=800, gamma=0.1, kernel=rbf; total time=   7.0s\n",
      "[CV 2/5] END ...................C=800, gamma=0.1, kernel=rbf; total time=   7.0s\n",
      "[CV 3/5] END ...................C=800, gamma=0.1, kernel=rbf; total time=   8.1s\n",
      "[CV 4/5] END ...................C=800, gamma=0.1, kernel=rbf; total time=   7.4s\n",
      "[CV 5/5] END ...................C=800, gamma=0.1, kernel=rbf; total time=   6.1s\n",
      "[CV 1/5] END ..................C=800, gamma=0.01, kernel=rbf; total time=   2.9s\n",
      "[CV 2/5] END ..................C=800, gamma=0.01, kernel=rbf; total time=   2.8s\n",
      "[CV 3/5] END ..................C=800, gamma=0.01, kernel=rbf; total time=   3.8s\n",
      "[CV 4/5] END ..................C=800, gamma=0.01, kernel=rbf; total time=   4.2s\n",
      "[CV 5/5] END ..................C=800, gamma=0.01, kernel=rbf; total time=   4.3s\n",
      "[CV 1/5] END .................C=800, gamma=0.001, kernel=rbf; total time=   1.4s\n",
      "[CV 2/5] END .................C=800, gamma=0.001, kernel=rbf; total time=   1.2s\n",
      "[CV 3/5] END .................C=800, gamma=0.001, kernel=rbf; total time=   0.9s\n",
      "[CV 4/5] END .................C=800, gamma=0.001, kernel=rbf; total time=   1.0s\n",
      "[CV 5/5] END .................C=800, gamma=0.001, kernel=rbf; total time=   1.0s\n",
      "[CV 1/5] END ................C=800, gamma=0.0001, kernel=rbf; total time=   1.1s\n",
      "[CV 2/5] END ................C=800, gamma=0.0001, kernel=rbf; total time=   1.4s\n",
      "[CV 3/5] END ................C=800, gamma=0.0001, kernel=rbf; total time=   1.5s\n",
      "[CV 4/5] END ................C=800, gamma=0.0001, kernel=rbf; total time=   1.5s\n",
      "[CV 5/5] END ................C=800, gamma=0.0001, kernel=rbf; total time=   2.4s\n"
     ]
    },
    {
     "data": {
      "text/plain": [
       "GridSearchCV(estimator=SVC(),\n",
       "             param_grid={'C': [0.1, 1, 10, 100, 200, 400, 600, 800],\n",
       "                         'gamma': [1, 0.1, 0.01, 0.001, 0.0001],\n",
       "                         'kernel': ['rbf']},\n",
       "             verbose=3)"
      ]
     },
     "execution_count": 33,
     "metadata": {},
     "output_type": "execute_result"
    }
   ],
   "source": [
    "grid = GridSearchCV(SVC(), param_grid, refit = True, verbose = 3)\n",
    "  \n",
    "# fitting the model for grid search\n",
    "grid.fit(X_train_final, y_train)"
   ]
  },
  {
   "cell_type": "code",
   "execution_count": 34,
   "metadata": {},
   "outputs": [
    {
     "name": "stdout",
     "output_type": "stream",
     "text": [
      "{'C': 1, 'gamma': 0.1, 'kernel': 'rbf'}\n",
      "SVC(C=1, gamma=0.1)\n"
     ]
    }
   ],
   "source": [
    "# print best parameter after tuning\n",
    "print(grid.best_params_)\n",
    "  \n",
    "# print how our model looks after hyper-parameter tuning\n",
    "print(grid.best_estimator_)"
   ]
  },
  {
   "cell_type": "code",
   "execution_count": 35,
   "metadata": {},
   "outputs": [
    {
     "data": {
      "text/plain": [
       "0.6602238046795524"
      ]
     },
     "execution_count": 35,
     "metadata": {},
     "output_type": "execute_result"
    }
   ],
   "source": [
    "# Support vector classifier\n",
    "from sklearn.svm import SVC\n",
    "svc_classifier = SVC(class_weight = \"balanced\"  , C=100, gamma=0.01)\n",
    "svc_classifier.fit(X_train_final, y_train)\n",
    "y_pred_scv = svc_classifier.predict(X_test_final)\n",
    "accuracy_score(y_test, y_pred_scv)"
   ]
  },
  {
   "cell_type": "code",
   "execution_count": 36,
   "metadata": {},
   "outputs": [
    {
     "name": "stdout",
     "output_type": "stream",
     "text": [
      "              precision    recall  f1-score   support\n",
      "\n",
      "           0       0.71      0.78      0.74       614\n",
      "           1       0.56      0.46      0.51       369\n",
      "\n",
      "    accuracy                           0.66       983\n",
      "   macro avg       0.63      0.62      0.62       983\n",
      "weighted avg       0.65      0.66      0.65       983\n",
      "\n"
     ]
    }
   ],
   "source": [
    "print(classification_report(y_test, y_pred_xgb))"
   ]
  },
  {
   "cell_type": "code",
   "execution_count": 37,
   "metadata": {},
   "outputs": [
    {
     "data": {
      "image/png": "[encoded data removed]",
      "text/plain": [
       "<Figure size 432x288 with 2 Axes>"
      ]
     },
     "metadata": {
      "needs_background": "light"
     },
     "output_type": "display_data"
    }
   ],
   "source": [
    "cm = confusion_matrix(y_test, y_pred_scv)\n",
    "plt.title('Heatmap of Confusion Matrix', fontsize = 12)\n",
    "sns.heatmap(cm, annot = True , fmt = \"d\")\n",
    "plt.show()"
   ]
  },
  {
   "cell_type": "code",
   "execution_count": 38,
   "metadata": {},
   "outputs": [
    {
     "name": "stdout",
     "output_type": "stream",
     "text": [
      "Confusion matrix of Support vector Machine : \n",
      " [[470 144]\n",
      " [190 179]] \n",
      "\n"
     ]
    }
   ],
   "source": [
    "## Pickle\n",
    "from sklearn.svm import SVC\n",
    "import pickle\n",
    "\n",
    "# save model\n",
    "pickle.dump(svc_classifier, open('model.pkl', 'wb'))\n",
    "\n",
    "# load model\n",
    "water_quality_model = pickle.load(open('model.pkl', 'rb'))\n",
    "\n",
    "# predict the output\n",
    "y_pred =water_quality_model.predict(X_test_final)\n",
    "\n",
    "# confusion matrix\n",
    "print('Confusion matrix of Support vector Machine : \\n',confusion_matrix(y_test, y_pred),'\\n')\n"
   ]
  }
 ],
 "metadata": {
  "kernelspec": {
   "display_name": "Python 3",
   "language": "python",
   "name": "python3"
  },
  "language_info": {
   "codemirror_mode": {
    "name": "ipython",
    "version": 3
   },
   "file_extension": ".py",
   "mimetype": "text/x-python",
   "name": "python",
   "nbconvert_exporter": "python",
   "pygments_lexer": "ipython3",
   "version": "3.8.8"
  }
 },
 "nbformat": 4,
 "nbformat_minor": 4
}
